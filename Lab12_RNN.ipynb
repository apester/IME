{
  "nbformat": 4,
  "nbformat_minor": 0,
  "metadata": {
    "colab": {
      "private_outputs": true,
      "provenance": [],
      "authorship_tag": "ABX9TyNSi1VMuoAO53DF6mlNF66v",
      "include_colab_link": true
    },
    "kernelspec": {
      "name": "python3",
      "display_name": "Python 3"
    },
    "language_info": {
      "name": "python"
    }
  },
  "cells": [
    {
      "cell_type": "markdown",
      "metadata": {
        "id": "view-in-github",
        "colab_type": "text"
      },
      "source": [
        "<a href=\"https://colab.research.google.com/github/apester/IME/blob/main/Lab12_RNN.ipynb\" target=\"_parent\"><img src=\"https://colab.research.google.com/assets/colab-badge.svg\" alt=\"Open In Colab\"/></a>"
      ]
    },
    {
      "cell_type": "markdown",
      "source": [
        "# Lab: Simple RNN for Time Series Prediction"
      ],
      "metadata": {
        "id": "SvFjS9MJJlsy"
      }
    },
    {
      "cell_type": "code",
      "source": [
        "# Step 1: Import necessary libraries\n",
        "import numpy as np\n",
        "import matplotlib.pyplot as plt\n",
        "from tensorflow.keras.models import Sequential\n",
        "from tensorflow.keras.layers import SimpleRNN, Dense"
      ],
      "metadata": {
        "id": "a_aMj5pKJf6U"
      },
      "execution_count": null,
      "outputs": []
    },
    {
      "cell_type": "code",
      "source": [
        "# Step 2: Generate synthetic data (sine wave)\n",
        "X = np.linspace(0, 50, 500)\n",
        "y = np.sin(X)\n",
        "# Prepare data for RNN\n",
        "seq_length = 10\n",
        "X_data, y_data = [], []\n",
        "for i in range(len(y) - seq_length):\n",
        "    X_data.append(y[i:i + seq_length])\n",
        "    y_data.append(y[i + seq_length])\n",
        "\n",
        "X_data = np.array(X_data).reshape(-1, seq_length, 1)\n",
        "y_data = np.array(y_data)"
      ],
      "metadata": {
        "id": "fDIVBBmwJtoj"
      },
      "execution_count": null,
      "outputs": []
    },
    {
      "cell_type": "code",
      "source": [
        "# Step 3: Split data into training and testing\n",
        "split = int(0.8 * len(X_data))\n",
        "X_train, X_test = X_data[:split], X_data[split:]\n",
        "y_train, y_test = y_data[:split], y_data[split:]"
      ],
      "metadata": {
        "id": "y70QujZJJ3bB"
      },
      "execution_count": null,
      "outputs": []
    },
    {
      "cell_type": "code",
      "source": [
        "# Step 4: Define and compile the Simple RNN model\n",
        "model = Sequential()\n",
        "model.add(SimpleRNN(20, activation='tanh', input_shape=(seq_length, 1)))\n",
        "model.add(Dense(1))\n",
        "model.compile(optimizer='adam', loss='mse')"
      ],
      "metadata": {
        "id": "e9eFJGZIJ6kB"
      },
      "execution_count": null,
      "outputs": []
    },
    {
      "cell_type": "code",
      "source": [
        "# Step 5: Train the model\n",
        "history = model.fit(X_train, y_train, epochs=100, validation_data=(X_test, y_test), verbose=0)"
      ],
      "metadata": {
        "id": "iDiUwcGVJ-IS"
      },
      "execution_count": null,
      "outputs": []
    },
    {
      "cell_type": "code",
      "execution_count": null,
      "metadata": {
        "id": "anNHo6jxJPyz"
      },
      "outputs": [],
      "source": [
        "# Step 6: Evaluate the model\n",
        "loss = model.evaluate(X_test, y_test)\n",
        "print(\"Test Loss:\", loss)\n",
        "\n",
        "# Step 7: Predictions\n",
        "predictions = model.predict(X_test)\n",
        "\n",
        "# Visualization\n",
        "plt.figure(figsize=(12, 6))\n",
        "plt.plot(y_test, label='Actual')\n",
        "plt.plot(predictions, label='Predicted')\n",
        "plt.title(\"Simple RNN Time Series Prediction\")\n",
        "plt.xlabel(\"Time Steps\")\n",
        "plt.ylabel(\"Value\")\n",
        "plt.legend()\n",
        "plt.show()\n"
      ]
    }
  ]
}