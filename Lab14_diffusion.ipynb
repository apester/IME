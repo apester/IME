{
  "cells": [
    {
      "cell_type": "markdown",
      "metadata": {
        "id": "view-in-github",
        "colab_type": "text"
      },
      "source": [
        "<a href=\"https://colab.research.google.com/github/apester/IME/blob/main/Lab14_diffusion.ipynb\" target=\"_parent\"><img src=\"https://colab.research.google.com/assets/colab-badge.svg\" alt=\"Open In Colab\"/></a>"
      ]
    },
    {
      "cell_type": "markdown",
      "metadata": {
        "id": "huNovu_6B-ZI"
      },
      "source": [
        "# Diffusion Model Lab with Hugging Face\n",
        "\n",
        "This notebook demonstrates how to generate images using a diffusion model (Stable Diffusion) from Hugging Face via the diffusers library. It installs the required packages, loads the model, and generates an image from a text prompt.\n",
        "\n",
        "After running the notebook, follow the instructions at the bottom to upload it to GitHub."
      ],
      "id": "huNovu_6B-ZI"
    },
    {
      "cell_type": "code",
      "execution_count": null,
      "metadata": {
        "id": "g1kvMMWSB-ZK"
      },
      "outputs": [],
      "source": [
        "# Install necessary packages\n",
        "!pip install diffusers transformers accelerate scipy safetensors"
      ],
      "id": "g1kvMMWSB-ZK"
    },
    {
      "cell_type": "code",
      "execution_count": null,
      "metadata": {
        "id": "u-M3FDmkB-ZL"
      },
      "outputs": [],
      "source": [
        "from diffusers import StableDiffusionPipeline\n",
        "import torch\n",
        "from PIL import Image\n",
        "\n",
        "# Use GPU if available; otherwise, fall back to CPU\n",
        "device = \"cuda\" if torch.cuda.is_available() else \"cpu\"\n",
        "print(f\"Using device: {device}\")\n",
        "\n",
        "# Model identifier (you can change this to another diffusion model from Hugging Face)\n",
        "model_id = \"CompVis/stable-diffusion-v1-4\"\n",
        "\n",
        "# Load the pre-trained diffusion model\n",
        "pipe = StableDiffusionPipeline.from_pretrained(\n",
        "    model_id,\n",
        "    torch_dtype=torch.float16 if device == \"cuda\" else torch.float32\n",
        ")\n",
        "pipe = pipe.to(device)"
      ],
      "id": "u-M3FDmkB-ZL"
    },
    {
      "cell_type": "code",
      "execution_count": null,
      "metadata": {
        "id": "TlVlRy-tB-ZM"
      },
      "outputs": [],
      "source": [
        "# Define your text prompt\n",
        "prompt = \"A futuristic cityscape, vibrant and full of neon lights\"\n",
        "\n",
        "# Generate an image using the diffusion pipeline\n",
        "result = pipe(prompt, num_inference_steps=50, guidance_scale=7.5)\n",
        "image = result.images[0]\n",
        "\n",
        "# Display the generated image\n",
        "image.show()\n",
        "\n",
        "# Save the image to the current working directory\n",
        "image.save(\"generated_image.png\")"
      ],
      "id": "TlVlRy-tB-ZM"
    },
    {
      "cell_type": "markdown",
      "metadata": {
        "id": "TD84PmrtB-ZM"
      },
      "source": [
        "## Instructions to Upload this Notebook to GitHub\n",
        "\n",
        "1. **Download the Notebook:**\n",
        "   - If you're using Jupyter Notebook, click on **File > Download as > Notebook (.ipynb)**.\n",
        "   - In Google Colab, choose **File > Download .ipynb**.\n",
        "\n",
        "2. **Create a GitHub Repository (if needed):**\n",
        "   - Go to [GitHub](https://github.com) and click **New repository**.\n",
        "   - Give your repository a name and description, and click **Create repository**.\n",
        "\n",
        "3. **Upload the Notebook to GitHub:**\n",
        "   - In your new repository, click on **Add file > Upload files**.\n",
        "   - Drag and drop your downloaded notebook file into the upload area.\n",
        "   - Commit the change by clicking **Commit changes**.\n",
        "\n",
        "### Alternatively, Using Git from the Command Line:\n",
        "\n",
        "```bash\n",
        "# Clone your repository (if you haven't already)\n",
        "git clone https://github.com/your_username/your_repository.git\n",
        "\n",
        "# Navigate into your repository\n",
        "cd your_repository\n",
        "\n",
        "# Copy the notebook into your repository (adjust the file path as necessary)\n",
        "cp /path/to/diffusion_lab.ipynb .\n",
        "\n",
        "# Add the file to git\n",
        "git add diffusion_lab.ipynb\n",
        "\n",
        "# Commit the file with an appropriate message\n",
        "git commit -m \"Add Diffusion Model Lab Notebook\"\n",
        "\n",
        "# Push the commit to GitHub\n",
        "git push origin main\n",
        "```"
      ],
      "id": "TD84PmrtB-ZM"
    }
  ],
  "metadata": {
    "kernelspec": {
      "display_name": "Python 3",
      "language": "python",
      "name": "python3"
    },
    "language_info": {
      "name": "python",
      "version": "3.x"
    },
    "colab": {
      "provenance": [],
      "include_colab_link": true
    }
  },
  "nbformat": 4,
  "nbformat_minor": 5
}