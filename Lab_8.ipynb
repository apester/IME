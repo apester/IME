{
  "nbformat": 4,
  "nbformat_minor": 0,
  "metadata": {
    "colab": {
      "private_outputs": true,
      "provenance": [],
      "authorship_tag": "ABX9TyOk58JbG24xgoVMkfH5P9n6",
      "include_colab_link": true
    },
    "kernelspec": {
      "name": "python3",
      "display_name": "Python 3"
    },
    "language_info": {
      "name": "python"
    }
  },
  "cells": [
    {
      "cell_type": "markdown",
      "metadata": {
        "id": "view-in-github",
        "colab_type": "text"
      },
      "source": [
        "<a href=\"https://colab.research.google.com/github/apester/IME/blob/main/Lab_8.ipynb\" target=\"_parent\"><img src=\"https://colab.research.google.com/assets/colab-badge.svg\" alt=\"Open In Colab\"/></a>"
      ]
    },
    {
      "cell_type": "code",
      "source": [
        "import tensorflow as tf\n",
        "from tensorflow.keras import layers, models\n",
        "import numpy as np\n",
        "import matplotlib.pyplot as plt"
      ],
      "metadata": {
        "id": "Qmipo9oWKtHI"
      },
      "execution_count": null,
      "outputs": []
    },
    {
      "cell_type": "code",
      "source": [
        "# 1. Generate Synthetic Dataset (for demonstration purposes)\n",
        "def generate_dataset(num_samples=1000, img_size=64):\n",
        "    X = np.random.rand(num_samples, img_size, img_size, 1)\n",
        "    y = np.random.randint(0, 2, num_samples)  # 0: good, 1: defect\n",
        "    # Simulate defects by inserting brighter spots\n",
        "    for i in range(num_samples):\n",
        "        if y[i] == 1:  # defect\n",
        "            x_coord, y_coord = np.random.randint(0, img_size, 2)\n",
        "            X[i, x_coord:x_coord+5, y_coord:y_coord+5] += 0.8\n",
        "            X[i] = np.clip(X[i], 0, 1)\n",
        "    return X, y\n",
        "\n",
        "X, y = generate_dataset()\n",
        "\n",
        "# Split the dataset into train/test\n",
        "from sklearn.model_selection import train_test_split\n",
        "X_train, X_test, y_train, y_test = train_test_split(X, y, test_size=0.2, random_state=42)"
      ],
      "metadata": {
        "id": "4Myq_3lVKyuI"
      },
      "execution_count": null,
      "outputs": []
    },
    {
      "cell_type": "code",
      "source": [
        "# 2. Build a Simple CNN Model\n",
        "model = models.Sequential([\n",
        "    layers.Conv2D(16, (3, 3), activation='relu', input_shape=(64, 64, 1)),\n",
        "    layers.MaxPooling2D((2, 2)),\n",
        "\n",
        "    layers.Conv2D(32, (3, 3), activation='relu'),\n",
        "    layers.MaxPooling2D((2, 2)),\n",
        "\n",
        "    layers.Conv2D(64, (3, 3), activation='relu'),\n",
        "    layers.MaxPooling2D((2, 2)),\n",
        "\n",
        "    layers.Flatten(),\n",
        "    layers.Dense(64, activation='relu'),\n",
        "    layers.Dense(1, activation='sigmoid')  # binary classification\n",
        "])"
      ],
      "metadata": {
        "id": "PCZdpeHDK566"
      },
      "execution_count": null,
      "outputs": []
    },
    {
      "cell_type": "code",
      "source": [
        "# 3. Compile the Model\n",
        "model.compile(optimizer='adam',\n",
        "              loss='binary_crossentropy',\n",
        "              metrics=['accuracy'])"
      ],
      "metadata": {
        "id": "GZ7Am83dLIFb"
      },
      "execution_count": null,
      "outputs": []
    },
    {
      "cell_type": "code",
      "source": [
        "# 4. Train the Model\n",
        "history = model.fit(X_train, y_train, epochs=10, validation_data=(X_test, y_test))\n",
        "\n",
        "# 5. Evaluate Model Performance\n",
        "test_loss, test_acc = model.evaluate(X_test, y_test, verbose=2)\n",
        "print(f'\\nTest accuracy: {test_acc:.2f}')"
      ],
      "metadata": {
        "id": "AzGMNn_XLNQm"
      },
      "execution_count": null,
      "outputs": []
    },
    {
      "cell_type": "code",
      "source": [
        "# 6. Predict and Visualize Results\n",
        "predictions = (model.predict(X_test[:5]) > 0.5).astype(\"int32\")\n",
        "\n",
        "fig, axes = plt.subplots(1, 5, figsize=(15,3))\n",
        "for i, ax in enumerate(axes):\n",
        "    ax.imshow(X_test[i].reshape(64,64), cmap='gray')\n",
        "    ax.set_title(f'True: {y_test[i]} | Pred: {predictions[i][0]}')\n",
        "    ax.axis('off')\n",
        "plt.show()\n"
      ],
      "metadata": {
        "collapsed": true,
        "id": "V7kLM840KNh9"
      },
      "execution_count": null,
      "outputs": []
    }
  ]
}