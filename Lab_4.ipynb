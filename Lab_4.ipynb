{
  "nbformat": 4,
  "nbformat_minor": 0,
  "metadata": {
    "colab": {
      "private_outputs": true,
      "provenance": [],
      "authorship_tag": "ABX9TyPQjJ5XIfcGxCkEZ9znizo2",
      "include_colab_link": true
    },
    "kernelspec": {
      "name": "python3",
      "display_name": "Python 3"
    },
    "language_info": {
      "name": "python"
    }
  },
  "cells": [
    {
      "cell_type": "markdown",
      "metadata": {
        "id": "view-in-github",
        "colab_type": "text"
      },
      "source": [
        "<a href=\"https://colab.research.google.com/github/apester/IME/blob/main/Lab_4.ipynb\" target=\"_parent\"><img src=\"https://colab.research.google.com/assets/colab-badge.svg\" alt=\"Open In Colab\"/></a>"
      ]
    },
    {
      "cell_type": "code",
      "execution_count": null,
      "metadata": {
        "id": "VuTvJAMSaN3h"
      },
      "outputs": [],
      "source": [
        "import tensorflow as tf\n",
        "from tensorflow import keras\n",
        "from tensorflow.keras import layers, regularizers\n",
        "import numpy as np\n",
        "import matplotlib.pyplot as plt\n",
        "from sklearn.model_selection import train_test_split\n",
        "from sklearn.datasets import make_classification\n",
        "from sklearn.preprocessing import StandardScaler\n"
      ]
    },
    {
      "cell_type": "code",
      "source": [
        "# Generate synthetic classification dataset\n",
        "X, y = make_classification(n_samples=5000, n_features=20, n_classes=2, random_state=42)\n",
        "X = StandardScaler().fit_transform(X)\n",
        "X_train, X_test, y_train, y_test = train_test_split(X, y, test_size=0.2, random_state=42)\n"
      ],
      "metadata": {
        "id": "G47mTj7Wck9J"
      },
      "execution_count": null,
      "outputs": []
    },
    {
      "cell_type": "code",
      "source": [
        "# Overfitting-prone model (no regularization)\n",
        "model_overfit = keras.Sequential([\n",
        "    layers.Dense(256, activation='relu', input_shape=(X.shape[1],)),\n",
        "    layers.Dense(128, activation='relu'),\n",
        "    layers.Dense(64, activation='relu'),\n",
        "    layers.Dense(1, activation='sigmoid')\n",
        "])\n",
        "\n",
        "model_overfit.compile(optimizer='adam', loss='binary_crossentropy', metrics=['accuracy'])\n",
        "\n",
        "# Train the overfitting model\n",
        "history_overfit = model_overfit.fit(X_train, y_train, epochs=50, batch_size=32, validation_data=(X_test, y_test), verbose=0)"
      ],
      "metadata": {
        "id": "oaGRyG0IcqX5"
      },
      "execution_count": null,
      "outputs": []
    },
    {
      "cell_type": "code",
      "source": [
        "# Regularized Model (L2 + Dropout)\n",
        "model_regularized = keras.Sequential([\n",
        "    layers.Dense(256, activation='relu', kernel_regularizer=regularizers.l2(0.01), input_shape=(X.shape[1],)),\n",
        "    layers.Dropout(0.3),\n",
        "    layers.Dense(128, activation='relu', kernel_regularizer=regularizers.l2(0.01)),\n",
        "    layers.Dropout(0.3),\n",
        "    layers.Dense(64, activation='relu', kernel_regularizer=regularizers.l2(0.01)),\n",
        "    layers.Dense(1, activation='sigmoid')\n",
        "])\n",
        "\n",
        "model_regularized.compile(optimizer='adam', loss='binary_crossentropy', metrics=['accuracy'])"
      ],
      "metadata": {
        "id": "D6YNhfItcxtw"
      },
      "execution_count": null,
      "outputs": []
    },
    {
      "cell_type": "code",
      "source": [
        "# Train with Early Stopping\n",
        "early_stopping = keras.callbacks.EarlyStopping(monitor='val_loss', patience=5, restore_best_weights=True)\n",
        "\n",
        "history_regularized = model_regularized.fit(X_train, y_train, epochs=50, batch_size=32, validation_data=(X_test, y_test), verbose=0, callbacks=[early_stopping])\n"
      ],
      "metadata": {
        "id": "_B9grYttc-SO"
      },
      "execution_count": null,
      "outputs": []
    },
    {
      "cell_type": "code",
      "source": [
        "# Plot Training Loss\n",
        "plt.figure(figsize=(10,5))\n",
        "plt.plot(history_overfit.history['loss'], label='Overfitting Model - Training Loss')\n",
        "plt.plot(history_overfit.history['val_loss'], label='Overfitting Model - Validation Loss')\n",
        "plt.plot(history_regularized.history['loss'], label='Regularized Model - Training Loss', linestyle='dashed')\n",
        "plt.plot(history_regularized.history['val_loss'], label='Regularized Model - Validation Loss', linestyle='dashed')\n",
        "plt.xlabel('Epochs')\n",
        "plt.ylabel('Loss')\n",
        "plt.legend()\n",
        "plt.title('Effect of Regularization on Overfitting')\n",
        "plt.show()\n"
      ],
      "metadata": {
        "id": "PZr03I3bdIzc"
      },
      "execution_count": null,
      "outputs": []
    },
    {
      "cell_type": "code",
      "source": [
        "# Plot Accuracy\n",
        "plt.figure(figsize=(10,5))\n",
        "plt.plot(history_overfit.history['accuracy'], label='Overfitting Model - Training Accuracy')\n",
        "plt.plot(history_overfit.history['val_accuracy'], label='Overfitting Model - Validation Accuracy')\n",
        "plt.plot(history_regularized.history['accuracy'], label='Regularized Model - Training Accuracy', linestyle='dashed')\n",
        "plt.plot(history_regularized.history['val_accuracy'], label='Regularized Model - Validation Accuracy', linestyle='dashed')\n",
        "plt.xlabel('Epochs')\n",
        "plt.ylabel('Accuracy')\n",
        "plt.legend()\n",
        "plt.title('Effect of Regularization on Model Performance')\n",
        "plt.show()\n"
      ],
      "metadata": {
        "id": "q2h8vyeJdPQ0"
      },
      "execution_count": null,
      "outputs": []
    }
  ]
}