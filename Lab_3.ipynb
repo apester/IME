{
  "nbformat": 4,
  "nbformat_minor": 0,
  "metadata": {
    "colab": {
      "private_outputs": true,
      "provenance": [],
      "authorship_tag": "ABX9TyMxlXqCek8tBFSjADZqXJqa",
      "include_colab_link": true
    },
    "kernelspec": {
      "name": "python3",
      "display_name": "Python 3"
    },
    "language_info": {
      "name": "python"
    }
  },
  "cells": [
    {
      "cell_type": "markdown",
      "metadata": {
        "id": "view-in-github",
        "colab_type": "text"
      },
      "source": [
        "<a href=\"https://colab.research.google.com/github/apester/IME/blob/main/Lab_3.ipynb\" target=\"_parent\"><img src=\"https://colab.research.google.com/assets/colab-badge.svg\" alt=\"Open In Colab\"/></a>"
      ]
    },
    {
      "cell_type": "code",
      "execution_count": null,
      "metadata": {
        "id": "VuTvJAMSaN3h"
      },
      "outputs": [],
      "source": [
        "import tensorflow as tf\n",
        "from tensorflow import keras\n",
        "from tensorflow.keras import layers\n",
        "import numpy as np\n",
        "import matplotlib.pyplot as plt\n",
        "from sklearn.model_selection import train_test_split\n",
        "from sklearn.datasets import make_classification\n",
        "from sklearn.preprocessing import StandardScaler\n"
      ]
    },
    {
      "cell_type": "code",
      "source": [
        "# Generate synthetic classification dataset\n",
        "X, y = make_classification(n_samples=5000, n_features=20, n_classes=2, random_state=42)\n",
        "X = StandardScaler().fit_transform(X)\n",
        "X_train, X_test, y_train, y_test = train_test_split(X, y, test_size=0.2, random_state=42)"
      ],
      "metadata": {
        "id": "4F2HmYIGaRL8"
      },
      "execution_count": null,
      "outputs": []
    },
    {
      "cell_type": "code",
      "source": [
        "# Define different optimizers\n",
        "optimizers = {\n",
        "    \"SGD\": keras.optimizers.SGD(learning_rate=0.01),\n",
        "    \"Adam\": keras.optimizers.Adam(learning_rate=0.01),\n",
        "    \"RMSprop\": keras.optimizers.RMSprop(learning_rate=0.01),\n",
        "    \"Adagrad\": keras.optimizers.Adagrad(learning_rate=0.01)\n",
        "}\n",
        "\n",
        "results = {}"
      ],
      "metadata": {
        "id": "FNDJ1HSDaOss"
      },
      "execution_count": null,
      "outputs": []
    },
    {
      "cell_type": "code",
      "source": [
        "# Training models with different optimizers\n",
        "for opt_name, opt in optimizers.items():\n",
        "    print(f\"Training with {opt_name} optimizer...\")\n",
        "\n",
        "    # Define the MLP model\n",
        "    model = keras.Sequential([\n",
        "        layers.Dense(64, activation='relu', input_shape=(X.shape[1],)),\n",
        "        layers.Dense(64, activation='relu'),\n",
        "        layers.Dense(1, activation='sigmoid')\n",
        "    ])\n",
        "\n",
        "    model.compile(optimizer=opt, loss='binary_crossentropy', metrics=['accuracy'])\n",
        "\n",
        "    # Train the model\n",
        "    history = model.fit(X_train, y_train, epochs=50, batch_size=32, verbose=0, validation_data=(X_test, y_test))\n",
        "\n",
        "    results[opt_name] = history.history\n"
      ],
      "metadata": {
        "id": "81Pkn9LxalJ8"
      },
      "execution_count": null,
      "outputs": []
    },
    {
      "cell_type": "code",
      "source": [
        "# Plot training loss\n",
        "plt.figure(figsize=(10, 5))\n",
        "for opt_name in optimizers.keys():\n",
        "    plt.plot(results[opt_name]['loss'], label=f'Loss ({opt_name})')\n",
        "plt.xlabel(\"Epochs\")\n",
        "plt.ylabel(\"Training Loss\")\n",
        "plt.legend()\n",
        "plt.title(\"Training Loss for Different Optimizers\")\n",
        "plt.show()"
      ],
      "metadata": {
        "id": "eQGh8T03ason"
      },
      "execution_count": null,
      "outputs": []
    },
    {
      "cell_type": "code",
      "source": [
        "# Plot validation accuracy\n",
        "plt.figure(figsize=(10, 5))\n",
        "for opt_name in optimizers.keys():\n",
        "    plt.plot(results[opt_name]['val_accuracy'], label=f'Accuracy ({opt_name})')\n",
        "plt.xlabel(\"Epochs\")\n",
        "plt.ylabel(\"Validation Accuracy\")\n",
        "plt.legend()\n",
        "plt.title(\"Validation Accuracy for Different Optimizers\")\n",
        "plt.show()"
      ],
      "metadata": {
        "id": "NuDPPXhHaO30"
      },
      "execution_count": null,
      "outputs": []
    }
  ]
}