{
  "nbformat": 4,
  "nbformat_minor": 0,
  "metadata": {
    "colab": {
      "private_outputs": true,
      "provenance": [],
      "authorship_tag": "ABX9TyPEj3ZVBR6m9pN8e3uaFIpP",
      "include_colab_link": true
    },
    "kernelspec": {
      "name": "python3",
      "display_name": "Python 3"
    },
    "language_info": {
      "name": "python"
    }
  },
  "cells": [
    {
      "cell_type": "markdown",
      "metadata": {
        "id": "view-in-github",
        "colab_type": "text"
      },
      "source": [
        "<a href=\"https://colab.research.google.com/github/apester/IME/blob/main/Lab16_RNN2.ipynb\" target=\"_parent\"><img src=\"https://colab.research.google.com/assets/colab-badge.svg\" alt=\"Open In Colab\"/></a>"
      ]
    },
    {
      "cell_type": "code",
      "execution_count": null,
      "metadata": {
        "id": "MYM3X3vVXo-1"
      },
      "outputs": [],
      "source": [
        "import numpy as np\n",
        "import tensorflow as tf\n",
        "from tensorflow.keras.models import Sequential\n",
        "from tensorflow.keras import layers\n",
        "from tensorflow.keras.layers import SimpleRNN, Dense\n",
        "\n",
        "# Sample sequential data (predict next number)\n",
        "X = np.array([[1, 2, 3], [2, 3, 4], [3, 4, 5]])\n",
        "y = np.array([4, 5, 6])\n",
        "\n",
        "# Reshape to [samples, timesteps, features]\n",
        "X = X.reshape((X.shape[0], X.shape[1], 1))\n",
        "\n",
        "# Define a Simple RNN Model\n",
        "model = Sequential()\n",
        "model.add(layers.Input(shape=(X.shape[1], X.shape[2])))\n",
        "model.add(SimpleRNN(10, activation='tanh'))\n",
        "model.add(Dense(1))\n",
        "model.compile(optimizer='adam', loss='mse')\n",
        "\n",
        "# Train model\n",
        "model.fit(X, y, epochs=100, verbose=0)\n",
        "\n",
        "# Predict next number\n",
        "test_input = np.array([[4, 5, 6]])\n",
        "test_input = test_input.reshape((1, 3, 1))\n",
        "predicted = model.predict(test_input, verbose=0)\n",
        "print(f\"Predicted next number: {predicted[0][0]:.2f}\")\n"
      ]
    }
  ]
}