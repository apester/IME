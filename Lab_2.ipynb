{
  "nbformat": 4,
  "nbformat_minor": 0,
  "metadata": {
    "colab": {
      "private_outputs": true,
      "provenance": [],
      "authorship_tag": "ABX9TyMQc8+c8bQ6E1gXTn0QixKT",
      "include_colab_link": true
    },
    "kernelspec": {
      "name": "python3",
      "display_name": "Python 3"
    },
    "language_info": {
      "name": "python"
    }
  },
  "cells": [
    {
      "cell_type": "markdown",
      "metadata": {
        "id": "view-in-github",
        "colab_type": "text"
      },
      "source": [
        "<a href=\"https://colab.research.google.com/github/apester/IME/blob/main/Lab_2.ipynb\" target=\"_parent\"><img src=\"https://colab.research.google.com/assets/colab-badge.svg\" alt=\"Open In Colab\"/></a>"
      ]
    },
    {
      "cell_type": "code",
      "execution_count": null,
      "metadata": {
        "id": "V7ifsMVJO8F4"
      },
      "outputs": [],
      "source": [
        "import tensorflow as tf\n",
        "from tensorflow import keras\n",
        "from tensorflow.keras import layers\n",
        "import numpy as np\n",
        "import matplotlib.pyplot as plt\n",
        "from sklearn.model_selection import train_test_split\n",
        "from sklearn.datasets import make_classification\n",
        "from sklearn.preprocessing import StandardScaler"
      ]
    },
    {
      "cell_type": "code",
      "source": [
        "# Generate synthetic classification dataset\n",
        "X, y = make_classification(n_samples=5000, n_features=20, n_classes=2, random_state=42)\n",
        "X = StandardScaler().fit_transform(X)\n",
        "X_train, X_test, y_train, y_test = train_test_split(X, y, test_size=0.2, random_state=42)\n",
        "\n",
        "# List the activation functions\n",
        "activations = ['relu', 'tanh', 'sigmoid']\n",
        "results = {}\n",
        "\n",
        "# run a procedure\n",
        "for activation in activations:\n",
        "    model = keras.Sequential([\n",
        "        layers.Dense(64, activation=activation, input_shape=(X.shape[1],)),\n",
        "        layers.Dense(64, activation=activation),\n",
        "        layers.Dense(1, activation='sigmoid')\n",
        "    ])\n",
        "\n",
        "    model.compile(optimizer='adam', loss='binary_crossentropy', metrics=['accuracy'])\n",
        "    history = model.fit(X_train, y_train, epochs=20, batch_size=32, verbose=0, validation_data=(X_test, y_test))\n",
        "\n",
        "    results[activation] = history.history"
      ],
      "metadata": {
        "id": "oGC56ZUbO9Hc"
      },
      "execution_count": null,
      "outputs": []
    },
    {
      "cell_type": "code",
      "source": [
        "# Plot training loss\n",
        "for activation in activations:\n",
        "    plt.plot(results[activation]['loss'], label=f'Loss ({activation})')\n",
        "plt.xlabel(\"Epochs\")\n",
        "plt.ylabel(\"Training Loss\")\n",
        "plt.legend()\n",
        "plt.title(\"Training Loss Across Different Activation Functions\")\n",
        "plt.show()"
      ],
      "metadata": {
        "id": "2HS0HSG9O9Sn"
      },
      "execution_count": null,
      "outputs": []
    },
    {
      "cell_type": "code",
      "source": [
        "# Plot accuracy\n",
        "for activation in activations:\n",
        "    plt.plot(results[activation]['val_accuracy'], label=f'Accuracy ({activation})')\n",
        "plt.xlabel(\"Epochs\")\n",
        "plt.ylabel(\"Validation Accuracy\")\n",
        "plt.legend()\n",
        "plt.title(\"Validation Accuracy Across Different Activation Functions\")\n",
        "plt.show()"
      ],
      "metadata": {
        "id": "NT0sRL4EPca3"
      },
      "execution_count": null,
      "outputs": []
    }
  ]
}