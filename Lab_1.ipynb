{
  "nbformat": 4,
  "nbformat_minor": 0,
  "metadata": {
    "colab": {
      "private_outputs": true,
      "provenance": [],
      "authorship_tag": "ABX9TyOLuLSojADqyHSxJEgiKTct",
      "include_colab_link": true
    },
    "kernelspec": {
      "name": "python3",
      "display_name": "Python 3"
    },
    "language_info": {
      "name": "python"
    }
  },
  "cells": [
    {
      "cell_type": "markdown",
      "metadata": {
        "id": "view-in-github",
        "colab_type": "text"
      },
      "source": [
        "<a href=\"https://colab.research.google.com/github/apester/IME/blob/main/Lab_1.ipynb\" target=\"_parent\"><img src=\"https://colab.research.google.com/assets/colab-badge.svg\" alt=\"Open In Colab\"/></a>"
      ]
    },
    {
      "cell_type": "code",
      "source": [
        "import tensorflow as tf\n",
        "from tensorflow import keras\n",
        "from tensorflow.keras import layers\n",
        "import numpy as np\n",
        "import matplotlib.pyplot as plt\n",
        "from sklearn.model_selection import train_test_split\n",
        "from sklearn.datasets import make_classification\n",
        "from sklearn.preprocessing import StandardScaler"
      ],
      "metadata": {
        "id": "IuqR1dC2MkM3"
      },
      "execution_count": null,
      "outputs": []
    },
    {
      "cell_type": "code",
      "source": [
        "# Generate synthetic classification dataset\n",
        "X, y = make_classification(n_samples=5000, n_features=20, n_classes=2, random_state=42)\n",
        "X = StandardScaler().fit_transform(X)\n",
        "X_train, X_test, y_train, y_test = train_test_split(X, y, test_size=0.2, random_state=42)\n",
        "\n",
        "# Define your own sequence of amount of layers\n",
        "layer_counts = [1, 2, 3, 5]\n",
        "accuracies = []\n",
        "\n",
        "# Generate the output\n",
        "for num_layers in layer_counts:\n",
        "    model = keras.Sequential([layers.Dense(64, activation='relu', input_shape=(X.shape[1],))])\n",
        "    for _ in range(num_layers - 1):\n",
        "        model.add(layers.Dense(64, activation='relu'))\n",
        "    model.add(layers.Dense(1, activation='sigmoid'))\n",
        "\n",
        "    model.compile(optimizer='adam', loss='binary_crossentropy', metrics=['accuracy'])\n",
        "    model.fit(X_train, y_train, epochs=20, batch_size=32, verbose=0, validation_data=(X_test, y_test))\n",
        "\n",
        "    _, acc = model.evaluate(X_test, y_test, verbose=0)\n",
        "    accuracies.append(acc)"
      ],
      "metadata": {
        "id": "YnzYGHnQMpvr"
      },
      "execution_count": null,
      "outputs": []
    },
    {
      "cell_type": "code",
      "execution_count": null,
      "metadata": {
        "id": "5TDmuPvdTs0R"
      },
      "outputs": [],
      "source": [
        "# Plot results\n",
        "plt.plot(layer_counts, accuracies, marker='o')\n",
        "plt.xlabel(\"Number of Hidden Layers\")\n",
        "plt.ylabel(\"Test Accuracy\")\n",
        "plt.title(\"Impact of Number of Layers on Classification Accuracy\")\n",
        "plt.show()"
      ]
    }
  ]
}