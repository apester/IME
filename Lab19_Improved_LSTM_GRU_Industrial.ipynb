{
  "cells": [
    {
      "cell_type": "markdown",
      "metadata": {
        "id": "view-in-github",
        "colab_type": "text"
      },
      "source": [
        "<a href=\"https://colab.research.google.com/github/apester/IME/blob/main/Lab19_Improved_LSTM_GRU_Industrial.ipynb\" target=\"_parent\"><img src=\"https://colab.research.google.com/assets/colab-badge.svg\" alt=\"Open In Colab\"/></a>"
      ]
    },
    {
      "cell_type": "markdown",
      "metadata": {
        "id": "rr7Snurp2rlR"
      },
      "source": [
        "# 🚧 Industrial Predictive Maintenance with LSTM and GRU (Improved Version)"
      ]
    },
    {
      "cell_type": "code",
      "execution_count": null,
      "metadata": {
        "id": "LAbD0Wwm2rlT"
      },
      "source": [
        "# Imports\n",
        "import numpy as np\n",
        "import pandas as pd\n",
        "from sklearn.preprocessing import StandardScaler\n",
        "from sklearn.model_selection import train_test_split\n",
        "from sklearn.metrics import classification_report\n",
        "import tensorflow as tf\n",
        "from tensorflow.keras.models import Sequential\n",
        "from tensorflow.keras.layers import Input, LSTM, GRU, Dense, Dropout\n",
        "import warnings\n",
        "warnings.filterwarnings('ignore')"
      ],
      "outputs": []
    },
    {
      "cell_type": "markdown",
      "metadata": {
        "id": "4IZuTOM32rlU"
      },
      "source": [
        "## Simulated Industrial Dataset"
      ]
    },
    {
      "cell_type": "code",
      "execution_count": null,
      "metadata": {
        "id": "PQE_zQkA2rlU"
      },
      "source": [
        "np.random.seed(42)\n",
        "n = 5000\n",
        "timestamps = np.arange(n)\n",
        "sensor1 = np.sin(timestamps / 40) + np.random.normal(0, 0.1, n)\n",
        "sensor2 = np.cos(timestamps / 50) + np.random.normal(0, 0.1, n)\n",
        "failure = (timestamps % 400 < 10).astype(int)\n",
        "\n",
        "df = pd.DataFrame({\n",
        "    'sensor1': sensor1,\n",
        "    'sensor2': sensor2,\n",
        "    'failure': failure\n",
        "})"
      ],
      "outputs": []
    },
    {
      "cell_type": "markdown",
      "metadata": {
        "id": "rouCzpvH2rlV"
      },
      "source": [
        "## Preprocessing"
      ]
    },
    {
      "cell_type": "code",
      "execution_count": null,
      "metadata": {
        "id": "OLeiMAeD2rlV"
      },
      "source": [
        "scaler = StandardScaler()\n",
        "df[['sensor1', 'sensor2']] = scaler.fit_transform(df[['sensor1', 'sensor2']])\n",
        "\n",
        "def sequences(data, steps=30):\n",
        "    X, y = [], []\n",
        "    for i in range(len(data)-steps):\n",
        "        X.append(data[['sensor1', 'sensor2']].iloc[i:i+steps].values)\n",
        "        y.append(data['failure'].iloc[i+steps])\n",
        "    return np.array(X), np.array(y)\n",
        "\n",
        "X, y = sequences(df)\n",
        "X_train, X_test, y_train, y_test = train_test_split(X, y, test_size=0.2, random_state=42)"
      ],
      "outputs": []
    },
    {
      "cell_type": "markdown",
      "metadata": {
        "id": "Tl46M4kb2rlV"
      },
      "source": [
        "## LSTM Model Definition (Improved)"
      ]
    },
    {
      "cell_type": "code",
      "execution_count": null,
      "metadata": {
        "colab": {
          "base_uri": "https://localhost:8080/"
        },
        "id": "BAOrarZe2rlV",
        "outputId": "d98e7497-2f49-4093-a050-4a36801a4c5d"
      },
      "source": [
        "lstm_model = Sequential([\n",
        "    Input(shape=(X.shape[1], X.shape[2])),\n",
        "    LSTM(32),\n",
        "    Dropout(0.2),\n",
        "    Dense(1, activation='sigmoid')\n",
        "])\n",
        "\n",
        "lstm_model.compile(loss='binary_crossentropy', optimizer='adam', metrics=['accuracy'])\n",
        "lstm_model.fit(X_train, y_train, epochs=5, batch_size=32, validation_split=0.1)"
      ],
      "outputs": [
        {
          "output_type": "stream",
          "name": "stdout",
          "text": [
            "Epoch 1/5\n",
            "\u001b[1m112/112\u001b[0m \u001b[32m━━━━━━━━━━━━━━━━━━━━\u001b[0m\u001b[37m\u001b[0m \u001b[1m4s\u001b[0m 16ms/step - accuracy: 0.8468 - loss: 0.4274 - val_accuracy: 0.9724 - val_loss: 0.1262\n",
            "Epoch 2/5\n",
            "\u001b[1m112/112\u001b[0m \u001b[32m━━━━━━━━━━━━━━━━━━━━\u001b[0m\u001b[37m\u001b[0m \u001b[1m3s\u001b[0m 16ms/step - accuracy: 0.9774 - loss: 0.1134 - val_accuracy: 0.9724 - val_loss: 0.1264\n",
            "Epoch 3/5\n",
            "\u001b[1m112/112\u001b[0m \u001b[32m━━━━━━━━━━━━━━━━━━━━\u001b[0m\u001b[37m\u001b[0m \u001b[1m2s\u001b[0m 15ms/step - accuracy: 0.9752 - loss: 0.1178 - val_accuracy: 0.9724 - val_loss: 0.1268\n",
            "Epoch 4/5\n",
            "\u001b[1m112/112\u001b[0m \u001b[32m━━━━━━━━━━━━━━━━━━━━\u001b[0m\u001b[37m\u001b[0m \u001b[1m2s\u001b[0m 13ms/step - accuracy: 0.9766 - loss: 0.1138 - val_accuracy: 0.9724 - val_loss: 0.1273\n",
            "Epoch 5/5\n",
            "\u001b[1m112/112\u001b[0m \u001b[32m━━━━━━━━━━━━━━━━━━━━\u001b[0m\u001b[37m\u001b[0m \u001b[1m2s\u001b[0m 12ms/step - accuracy: 0.9678 - loss: 0.1438 - val_accuracy: 0.9724 - val_loss: 0.1307\n"
          ]
        },
        {
          "output_type": "execute_result",
          "data": {
            "text/plain": [
              "<keras.src.callbacks.history.History at 0x7e365afb0890>"
            ]
          },
          "metadata": {},
          "execution_count": 4
        }
      ]
    },
    {
      "cell_type": "markdown",
      "metadata": {
        "id": "9xz60UAX2rlV"
      },
      "source": [
        "## GRU Model Definition (Improved)"
      ]
    },
    {
      "cell_type": "code",
      "execution_count": null,
      "metadata": {
        "colab": {
          "base_uri": "https://localhost:8080/"
        },
        "id": "WqBbrLPg2rlW",
        "outputId": "27a97e25-caa3-4e45-d91e-c289a0f50744"
      },
      "source": [
        "gru_model = Sequential([\n",
        "    Input(shape=(X.shape[1], X.shape[2])),\n",
        "    GRU(32),\n",
        "    Dropout(0.2),\n",
        "    Dense(1, activation='sigmoid')\n",
        "])\n",
        "\n",
        "gru_model.compile(loss='binary_crossentropy', optimizer='adam', metrics=['accuracy'])\n",
        "gru_model.fit(X_train, y_train, epochs=5, batch_size=32, validation_split=0.1)"
      ],
      "outputs": [
        {
          "output_type": "stream",
          "name": "stdout",
          "text": [
            "Epoch 1/5\n",
            "\u001b[1m112/112\u001b[0m \u001b[32m━━━━━━━━━━━━━━━━━━━━\u001b[0m\u001b[37m\u001b[0m \u001b[1m4s\u001b[0m 18ms/step - accuracy: 0.8275 - loss: 0.5005 - val_accuracy: 0.9724 - val_loss: 0.1269\n",
            "Epoch 2/5\n",
            "\u001b[1m112/112\u001b[0m \u001b[32m━━━━━━━━━━━━━━━━━━━━\u001b[0m\u001b[37m\u001b[0m \u001b[1m2s\u001b[0m 15ms/step - accuracy: 0.9763 - loss: 0.1164 - val_accuracy: 0.9724 - val_loss: 0.1281\n",
            "Epoch 3/5\n",
            "\u001b[1m112/112\u001b[0m \u001b[32m━━━━━━━━━━━━━━━━━━━━\u001b[0m\u001b[37m\u001b[0m \u001b[1m2s\u001b[0m 22ms/step - accuracy: 0.9745 - loss: 0.1244 - val_accuracy: 0.9724 - val_loss: 0.1281\n",
            "Epoch 4/5\n",
            "\u001b[1m112/112\u001b[0m \u001b[32m━━━━━━━━━━━━━━━━━━━━\u001b[0m\u001b[37m\u001b[0m \u001b[1m2s\u001b[0m 15ms/step - accuracy: 0.9735 - loss: 0.1224 - val_accuracy: 0.9724 - val_loss: 0.1299\n",
            "Epoch 5/5\n",
            "\u001b[1m112/112\u001b[0m \u001b[32m━━━━━━━━━━━━━━━━━━━━\u001b[0m\u001b[37m\u001b[0m \u001b[1m2s\u001b[0m 14ms/step - accuracy: 0.9745 - loss: 0.1207 - val_accuracy: 0.9724 - val_loss: 0.1289\n"
          ]
        },
        {
          "output_type": "execute_result",
          "data": {
            "text/plain": [
              "<keras.src.callbacks.history.History at 0x7e364d99af10>"
            ]
          },
          "metadata": {},
          "execution_count": 5
        }
      ]
    },
    {
      "cell_type": "markdown",
      "metadata": {
        "id": "Ma0PBnuU2rlW"
      },
      "source": [
        "## Evaluation with Zero Division Handling"
      ]
    },
    {
      "cell_type": "code",
      "execution_count": null,
      "metadata": {
        "colab": {
          "base_uri": "https://localhost:8080/"
        },
        "id": "YUknNtHy2rlW",
        "outputId": "a27ec589-8207-4708-f7f3-2443d6263241"
      },
      "source": [
        "y_pred_lstm = (lstm_model.predict(X_test) > 0.5).astype(int)\n",
        "print('LSTM Evaluation:\\n', classification_report(y_test, y_pred_lstm, zero_division=0))\n",
        "\n",
        "y_pred_gru = (gru_model.predict(X_test) > 0.5).astype(int)\n",
        "print('GRU Evaluation:\\n', classification_report(y_test, y_pred_gru, zero_division=0))"
      ],
      "outputs": [
        {
          "output_type": "stream",
          "name": "stdout",
          "text": [
            "\u001b[1m32/32\u001b[0m \u001b[32m━━━━━━━━━━━━━━━━━━━━\u001b[0m\u001b[37m\u001b[0m \u001b[1m0s\u001b[0m 9ms/step\n",
            "LSTM Evaluation:\n",
            "               precision    recall  f1-score   support\n",
            "\n",
            "           0       0.98      1.00      0.99       972\n",
            "           1       0.00      0.00      0.00        22\n",
            "\n",
            "    accuracy                           0.98       994\n",
            "   macro avg       0.49      0.50      0.49       994\n",
            "weighted avg       0.96      0.98      0.97       994\n",
            "\n",
            "\u001b[1m32/32\u001b[0m \u001b[32m━━━━━━━━━━━━━━━━━━━━\u001b[0m\u001b[37m\u001b[0m \u001b[1m1s\u001b[0m 12ms/step\n",
            "GRU Evaluation:\n",
            "               precision    recall  f1-score   support\n",
            "\n",
            "           0       0.98      1.00      0.99       972\n",
            "           1       0.00      0.00      0.00        22\n",
            "\n",
            "    accuracy                           0.98       994\n",
            "   macro avg       0.49      0.50      0.49       994\n",
            "weighted avg       0.96      0.98      0.97       994\n",
            "\n"
          ]
        }
      ]
    }
  ],
  "metadata": {
    "kernelspec": {
      "name": "python3",
      "language": "python"
    },
    "language_info": {
      "version": "3.x"
    },
    "colab": {
      "provenance": [],
      "include_colab_link": true
    }
  },
  "nbformat": 4,
  "nbformat_minor": 0
}