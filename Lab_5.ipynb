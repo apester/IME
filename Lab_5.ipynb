{
  "nbformat": 4,
  "nbformat_minor": 0,
  "metadata": {
    "colab": {
      "private_outputs": true,
      "provenance": [],
      "authorship_tag": "ABX9TyMIwekzEwu0KTORLrUs3mfQ",
      "include_colab_link": true
    },
    "kernelspec": {
      "name": "python3",
      "display_name": "Python 3"
    },
    "language_info": {
      "name": "python"
    }
  },
  "cells": [
    {
      "cell_type": "markdown",
      "metadata": {
        "id": "view-in-github",
        "colab_type": "text"
      },
      "source": [
        "<a href=\"https://colab.research.google.com/github/apester/IME/blob/main/Lab_5.ipynb\" target=\"_parent\"><img src=\"https://colab.research.google.com/assets/colab-badge.svg\" alt=\"Open In Colab\"/></a>"
      ]
    },
    {
      "cell_type": "code",
      "source": [
        "import tensorflow as tf\n",
        "from tensorflow import keras\n",
        "from tensorflow.keras import layers\n",
        "import numpy as np\n",
        "import matplotlib.pyplot as plt\n",
        "from sklearn.model_selection import train_test_split\n",
        "from sklearn.datasets import make_classification\n",
        "from sklearn.preprocessing import StandardScaler\n"
      ],
      "metadata": {
        "id": "cvqlvUFYtrRv"
      },
      "execution_count": null,
      "outputs": []
    },
    {
      "cell_type": "code",
      "source": [
        "# Generate synthetic classification dataset\n",
        "X, y = make_classification(n_samples=5000, n_features=20, n_classes=2, random_state=42)\n",
        "X = StandardScaler().fit_transform(X)\n",
        "X_train, X_test, y_train, y_test = train_test_split(X, y, test_size=0.2, random_state=42)"
      ],
      "metadata": {
        "id": "14UfNX_xtrXk"
      },
      "execution_count": null,
      "outputs": []
    },
    {
      "cell_type": "code",
      "source": [
        "# Baseline Model (Without Batch Normalization)\n",
        "model_no_bn = keras.Sequential([\n",
        "    layers.Dense(128, activation='relu', input_shape=(X.shape[1],)),\n",
        "    layers.Dense(64, activation='relu'),\n",
        "    layers.Dense(32, activation='relu'),\n",
        "    layers.Dense(1, activation='sigmoid')\n",
        "])\n",
        "\n",
        "model_no_bn.compile(optimizer='adam', loss='binary_crossentropy', metrics=['accuracy'])\n",
        "\n",
        "# Train baseline model\n",
        "history_no_bn = model_no_bn.fit(X_train, y_train, epochs=50, batch_size=32, verbose=0, validation_data=(X_test, y_test))"
      ],
      "metadata": {
        "id": "Z8vrPHYPtriz"
      },
      "execution_count": null,
      "outputs": []
    },
    {
      "cell_type": "code",
      "source": [
        "# Model with Batch Normalization\n",
        "model_with_bn = keras.Sequential([\n",
        "    layers.Dense(128, activation='relu', input_shape=(X.shape[1],)),\n",
        "    layers.BatchNormalization(),\n",
        "    layers.Dense(64, activation='relu'),\n",
        "    layers.BatchNormalization(),\n",
        "    layers.Dense(32, activation='relu'),\n",
        "    layers.BatchNormalization(),\n",
        "    layers.Dense(1, activation='sigmoid')\n",
        "])\n",
        "\n",
        "model_with_bn.compile(optimizer='adam', loss='binary_crossentropy', metrics=['accuracy'])\n",
        "\n",
        "# Train batch-normalized model\n",
        "history_with_bn = model_with_bn.fit(X_train, y_train, epochs=50, batch_size=32, verbose=0, validation_data=(X_test, y_test))"
      ],
      "metadata": {
        "id": "A7BimoCmtrc1"
      },
      "execution_count": null,
      "outputs": []
    },
    {
      "cell_type": "code",
      "execution_count": null,
      "metadata": {
        "id": "pHNWHQ4EtYlK"
      },
      "outputs": [],
      "source": [
        "# Plot Training Loss\n",
        "plt.figure(figsize=(10, 5))\n",
        "plt.plot(history_no_bn.history['loss'], label='No BN - Training Loss')\n",
        "plt.plot(history_no_bn.history['val_loss'], label='No BN - Validation Loss')\n",
        "plt.plot(history_with_bn.history['loss'], label='With BN - Training Loss', linestyle='dashed')\n",
        "plt.plot(history_with_bn.history['val_loss'], label='With BN - Validation Loss', linestyle='dashed')\n",
        "plt.xlabel(\"Epochs\")\n",
        "plt.ylabel(\"Loss\")\n",
        "plt.legend()\n",
        "plt.title(\"Impact of Batch Normalization on Training Loss\")\n",
        "plt.show()\n",
        "\n"
      ]
    },
    {
      "cell_type": "code",
      "source": [
        "# Plot Accuracy\n",
        "plt.figure(figsize=(10, 5))\n",
        "plt.plot(history_no_bn.history['accuracy'], label='No BN - Training Accuracy')\n",
        "plt.plot(history_no_bn.history['val_accuracy'], label='No BN - Validation Accuracy')\n",
        "plt.plot(history_with_bn.history['accuracy'], label='With BN - Training Accuracy', linestyle='dashed')\n",
        "plt.plot(history_with_bn.history['val_accuracy'], label='With BN - Validation Accuracy', linestyle='dashed')\n",
        "plt.xlabel(\"Epochs\")\n",
        "plt.ylabel(\"Accuracy\")\n",
        "plt.legend()\n",
        "plt.title(\"Impact of Batch Normalization on Model Accuracy\")\n",
        "plt.show()\n"
      ],
      "metadata": {
        "id": "KEOUdv02upAJ"
      },
      "execution_count": null,
      "outputs": []
    }
  ]
}