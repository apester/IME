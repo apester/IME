{
  "nbformat": 4,
  "nbformat_minor": 0,
  "metadata": {
    "colab": {
      "private_outputs": true,
      "provenance": [],
      "authorship_tag": "ABX9TyPDW+CdnkZjztxurqm0wPM/",
      "include_colab_link": true
    },
    "kernelspec": {
      "name": "python3",
      "display_name": "Python 3"
    },
    "language_info": {
      "name": "python"
    }
  },
  "cells": [
    {
      "cell_type": "markdown",
      "metadata": {
        "id": "view-in-github",
        "colab_type": "text"
      },
      "source": [
        "<a href=\"https://colab.research.google.com/github/apester/IME/blob/main/Lab18_TextGen.ipynb\" target=\"_parent\"><img src=\"https://colab.research.google.com/assets/colab-badge.svg\" alt=\"Open In Colab\"/></a>"
      ]
    },
    {
      "cell_type": "markdown",
      "source": [
        "Dataset"
      ],
      "metadata": {
        "id": "fPEtnQXXJ7en"
      }
    },
    {
      "cell_type": "code",
      "execution_count": null,
      "metadata": {
        "id": "nDQSwzPyJ68S"
      },
      "outputs": [],
      "source": [
        "text = \"hello world this is a simple recurrent neural network lab\""
      ]
    },
    {
      "cell_type": "markdown",
      "source": [
        "Step 1: Data Preparation"
      ],
      "metadata": {
        "id": "Rziqs6sXKDos"
      }
    },
    {
      "cell_type": "code",
      "source": [
        "import numpy as np\n",
        "from tensorflow.keras.utils import to_categorical\n",
        "\n",
        "# Preprocess text\n",
        "chars = sorted(list(set(text)))\n",
        "char_to_int = {c: i for i, c in enumerate(chars)}\n",
        "int_to_char = {i: c for i, c in enumerate(chars)}\n",
        "\n",
        "seq_length = 5\n",
        "X, y = [], []\n",
        "\n",
        "for i in range(len(text) - seq_length):\n",
        "    seq_in = text[i:i + seq_length]\n",
        "    seq_out = text[i + seq_length]\n",
        "    X.append([char_to_int[char] for char in seq_in])\n",
        "    y.append(char_to_int[seq_out])\n",
        "\n",
        "X = np.reshape(X, (len(X), seq_length, 1)) / len(chars)\n",
        "y = to_categorical(y)"
      ],
      "metadata": {
        "id": "55XeDG65KIm7"
      },
      "execution_count": null,
      "outputs": []
    },
    {
      "cell_type": "markdown",
      "source": [
        "Step 2: Define and Train Simple RNN Model"
      ],
      "metadata": {
        "id": "XFxUQNE4KRhm"
      }
    },
    {
      "cell_type": "code",
      "source": [
        "from tensorflow.keras.models import Sequential\n",
        "from tensorflow.keras.layers import SimpleRNN, Dense, Input\n",
        "from tensorflow.keras import layers\n",
        "\n",
        "model = Sequential()\n",
        "model.add(Input(shape=(X.shape[1], X.shape[2])))\n",
        "model.add(SimpleRNN(50))\n",
        "model.add(Dense(y.shape[1], activation='softmax'))\n",
        "\n",
        "model.compile(loss='categorical_crossentropy', optimizer='adam', metrics=['accuracy'])\n",
        "model.fit(X, y, epochs=200, batch_size=1, verbose=1)"
      ],
      "metadata": {
        "id": "Tz_tkxkAKWP2"
      },
      "execution_count": null,
      "outputs": []
    },
    {
      "cell_type": "markdown",
      "source": [
        "Step 3: Text Generation"
      ],
      "metadata": {
        "id": "S381gna0L_EA"
      }
    },
    {
      "cell_type": "code",
      "source": [
        "start = np.random.randint(0, len(X)-1)\n",
        "pattern = X[start]\n",
        "print(\"Seed:\", ''.join([int_to_char[int(value*len(chars))] for value in pattern.flatten()]))\n",
        "\n",
        "# Generate characters\n",
        "for i in range(50):\n",
        "    x_input = np.reshape(pattern, (1, seq_length, 1))\n",
        "    prediction = model.predict(x_input, verbose=0)\n",
        "    index = np.argmax(prediction)\n",
        "    result = int_to_char[index]\n",
        "    print(result, end=\"\")\n",
        "    pattern = np.append(pattern[1:], [[index / len(chars)]], axis=0)"
      ],
      "metadata": {
        "id": "8hpB2CMwMFIQ"
      },
      "execution_count": null,
      "outputs": []
    },
    {
      "cell_type": "markdown",
      "source": [
        "Step 4: Analysis\n",
        "\n",
        "Examine the generated text for coherence and discuss the limitations observed.\n",
        "\n",
        "Highlight challenges like limited memory of simple RNNs."
      ],
      "metadata": {
        "id": "kZjvDhEAMWuF"
      }
    }
  ]
}